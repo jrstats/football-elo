{
 "cells": [
  {
   "cell_type": "code",
   "execution_count": null,
   "metadata": {},
   "outputs": [],
   "source": [
    "import requests\n",
    "import pandas as pd\n",
    "import re\n",
    "from bs4 import BeautifulSoup\n",
    "\n",
    "def get_team_matches(url):\n",
    "    response = requests.get(url)\n",
    "    soup = BeautifulSoup(response.content, features=\"lxml\")\n",
    "    matches = pd.read_html(response.content)[1]\n",
    "    h1 = soup.find(\"h1\").text\n",
    "    team_name = re.search(\"[0-9]{4}-[0-9]{4} (.*) Stats\", h1).group(1)\n",
    "    matches[\"Team\"] = team_name\n",
    "\n",
    "    return matches, soup\n",
    "\n",
    "def get_football_matches():\n",
    "\n",
    "    # this season\n",
    "    url = f\"https://fbref.com/en/squads/{TEAM_ID}\"\n",
    "    matches, soup = get_team_matches(url)\n",
    "\n",
    "    # prev season\n",
    "    endpoint = soup.find(\"div\", attrs={\"class\": \"prevnext\"}).find(\"a\").attrs[\"href\"]\n",
    "    url_prev = f\"https://fbref.com\" + endpoint\n",
    "    matches_prev, _ = get_team_matches(url_prev)"
   ]
  }
 ],
 "metadata": {
  "language_info": {
   "name": "python"
  }
 },
 "nbformat": 4,
 "nbformat_minor": 2
}
