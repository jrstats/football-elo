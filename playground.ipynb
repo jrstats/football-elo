{
 "cells": [
  {
   "cell_type": "code",
   "execution_count": 25,
   "metadata": {},
   "outputs": [],
   "source": [
    "import requests\n",
    "import pandas as pd\n",
    "import datetime as dt\n",
    "from bs4 import BeautifulSoup\n",
    "\n",
    "def get_football_matches(season: str = \"2023-2024\"):\n",
    "    url = f\"https://fbref.com/en/comps/9/{season}/schedule/{season}-Premier-League-Scores-and-Fixtures\"\n",
    "    response = requests.get(url)\n",
    "    matches = (\n",
    "        pd.read_html(response.content)[0]\n",
    "        .assign(datetime=lambda df: pd.to_datetime(df[\"Date\"] + \" \" + df[\"Time\"]))\n",
    "        .dropna(subset=[\"Score\"])\n",
    "        .drop([\"Match Report\", \"Notes\"], axis=1)\n",
    "    )\n",
    "\n",
    "    return matches\n",
    "\n",
    "def init_elo(teams, starting_value=1500):\n",
    "    return {team: starting_value for team in teams}\n",
    "\n",
    "def expected_scores(rating_x, rating_y, weight=400):\n",
    "    \"\"\"\n",
    "    https://en.wikipedia.org/wiki/Elo_rating_system\n",
    "    'For each `weight` rating points of advantage over the opponent, \n",
    "    the expected score is magnified ten times in comparison to the opponent's expected score.'\n",
    "    \"\"\"\n",
    "    q_x = 10 ** (rating_x / weight)\n",
    "    q_y = 10 ** (rating_y / weight)\n",
    "\n",
    "    e_x = q_x / (q_x + q_y)\n",
    "    e_y = q_y / (q_x + q_y)\n",
    "\n",
    "    return e_x, e_y\n",
    "\n",
    "\n",
    "def update_ratings(rating_x, rating_y, result_x, k_factor=16):\n",
    "    result_y = 1 - result_x\n",
    "    e_x, e_y = expected_scores(rating_x, rating_y)\n",
    "\n",
    "    rating_x_new = rating_x + k_factor * (result_x - e_x)\n",
    "    rating_y_new = rating_y + k_factor * (result_y - e_y)\n",
    "\n",
    "    return rating_x_new, rating_y_new"
   ]
  },
  {
   "cell_type": "code",
   "execution_count": 22,
   "metadata": {},
   "outputs": [],
   "source": [
    "matches = get_football_matches()"
   ]
  },
  {
   "cell_type": "code",
   "execution_count": 27,
   "metadata": {},
   "outputs": [
    {
     "data": {
      "text/plain": [
       "{'Burnley': 1000,\n",
       " 'Arsenal': 1000,\n",
       " 'Everton': 1000,\n",
       " 'Sheffield Utd': 1000,\n",
       " 'Brighton': 1000,\n",
       " 'Bournemouth': 1000,\n",
       " 'Newcastle Utd': 1000,\n",
       " 'Brentford': 1000,\n",
       " 'Chelsea': 1000,\n",
       " 'Manchester Utd': 1000,\n",
       " \"Nott'ham Forest\": 1000,\n",
       " 'Fulham': 1000,\n",
       " 'Liverpool': 1000,\n",
       " 'Wolves': 1000,\n",
       " 'Tottenham': 1000,\n",
       " 'Manchester City': 1000,\n",
       " 'Aston Villa': 1000,\n",
       " 'West Ham': 1000,\n",
       " 'Crystal Palace': 1000,\n",
       " 'Luton Town': 1000}"
      ]
     },
     "execution_count": 27,
     "metadata": {},
     "output_type": "execute_result"
    }
   ],
   "source": [
    "elo = init_elo(matches[\"Home\"].unique())\n",
    "elo"
   ]
  },
  {
   "cell_type": "code",
   "execution_count": null,
   "metadata": {},
   "outputs": [],
   "source": []
  }
 ],
 "metadata": {
  "kernelspec": {
   "display_name": "venv",
   "language": "python",
   "name": "python3"
  },
  "language_info": {
   "codemirror_mode": {
    "name": "ipython",
    "version": 3
   },
   "file_extension": ".py",
   "mimetype": "text/x-python",
   "name": "python",
   "nbconvert_exporter": "python",
   "pygments_lexer": "ipython3",
   "version": "3.11.3"
  }
 },
 "nbformat": 4,
 "nbformat_minor": 2
}
